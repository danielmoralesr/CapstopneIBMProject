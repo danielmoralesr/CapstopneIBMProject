{
 "cells": [
  {
   "cell_type": "code",
   "execution_count": 2,
   "id": "8bef8181",
   "metadata": {},
   "outputs": [],
   "source": [
    "# Import required libraries\n",
    "import pandas as pd\n",
    "import dash\n",
    "from dash import html\n",
    "from dash import dcc\n",
    "from dash.dependencies import Input, Output\n",
    "import plotly.express as px"
   ]
  },
  {
   "cell_type": "code",
   "execution_count": 3,
   "id": "ee51fee6",
   "metadata": {},
   "outputs": [],
   "source": [
    "# Read the airline data into pandas dataframe\n",
    "spacex_df = pd.read_csv(\"spacex_launch_dash.csv\")\n",
    "max_payload = spacex_df['Payload Mass (kg)'].max()\n",
    "min_payload = spacex_df['Payload Mass (kg)'].min()\n",
    "\n",
    "\n"
   ]
  },
  {
   "cell_type": "code",
   "execution_count": 6,
   "id": "6ce12f6a",
   "metadata": {},
   "outputs": [
    {
     "data": {
      "text/plain": [
       "Index(['Unnamed: 0', 'Flight Number', 'Launch Site', 'class',\n",
       "       'Payload Mass (kg)', 'Booster Version', 'Booster Version Category'],\n",
       "      dtype='object')"
      ]
     },
     "execution_count": 6,
     "metadata": {},
     "output_type": "execute_result"
    }
   ],
   "source": [
    "spacex_df.columns"
   ]
  },
  {
   "cell_type": "code",
   "execution_count": 8,
   "id": "5cee36ad",
   "metadata": {},
   "outputs": [],
   "source": [
    "# Create options for the dropdown list\n",
    "site_options = [{'label': 'All Sites', 'value': 'ALL'}]\n",
    "site_options.extend([{'label': site, 'value': site} for site in spacex_df['Launch Site'].unique()])\n",
    "\n",
    "# Define function to generate scatter chart\n",
    "def generate_scatter_chart(df):\n",
    "    fig = px.scatter(df, x='Payload Mass (kg)', y='class', color='Booster Version Category')\n",
    "    return fig"
   ]
  },
  {
   "cell_type": "code",
   "execution_count": 10,
   "id": "281bc218",
   "metadata": {},
   "outputs": [
    {
     "name": "stdout",
     "output_type": "stream",
     "text": [
      "Dash is running on http://127.0.0.1:8050/\n",
      "\n",
      " * Serving Flask app \"__main__\" (lazy loading)\n",
      " * Environment: production\n",
      "\u001b[31m   WARNING: This is a development server. Do not use it in a production deployment.\u001b[0m\n",
      "\u001b[2m   Use a production WSGI server instead.\u001b[0m\n",
      " * Debug mode: on\n"
     ]
    }
   ],
   "source": [
    "# Create a dash application\n",
    "app = dash.Dash(__name__)\n",
    "\n",
    "# Create an app layout\n",
    "app.layout = html.Div(children=[html.H1('SpaceX Launch Records Dashboard',\n",
    "                                        style={'textAlign': 'center', 'color': '#503D36',\n",
    "                                               'font-size': 40}),\n",
    "                                # TASK 1: Add a dropdown list to enable Launch Site selection\n",
    "                                dcc.Dropdown(id='site-dropdown',\n",
    "                                             options=site_options,\n",
    "                                             value='ALL',\n",
    "                                             placeholder='Select a Launch Site',\n",
    "                                             searchable=True),\n",
    "\n",
    "                                html.Br(),\n",
    "\n",
    "                                # TASK 2: Add a pie chart to show the total successful launches count for all sites\n",
    "                                # If a specific launch site was selected, show the Success vs. Failed counts for the site\n",
    "                                html.Div(dcc.Graph(id='success-pie-chart')),\n",
    "                                html.Br(),\n",
    "\n",
    "                                html.P(\"Payload range (Kg):\"),\n",
    "\n",
    "                                # TASK 3: Add a slider to select payload range\n",
    "                                dcc.RangeSlider(id='payload-slider',\n",
    "                                                 min=0,\n",
    "                                                 max=10000,\n",
    "                                                 step=1000,\n",
    "                                                 value=[min(spacex_df['Payload Mass (kg)']),\n",
    "                                                        max(spacex_df['Payload Mass (kg)'])]),\n",
    "\n",
    "                                # TASK 4: Add a scatter chart to show the correlation between payload and launch success\n",
    "                                html.Div(dcc.Graph(id='success-payload-scatter-chart')),\n",
    "                                ])\n",
    "\n",
    "# TASK 2:\n",
    "# Add a callback function for `site-dropdown` as input, `success-pie-chart` as output\n",
    "@app.callback(Output(component_id='success-pie-chart', component_property='figure'),\n",
    "              Input(component_id='site-dropdown', component_property='value'))\n",
    "def update_success_pie_chart(site):\n",
    "    if site == 'ALL':\n",
    "        values = spacex_df['class'].value_counts()\n",
    "        title = 'Total Success Launches By Site'\n",
    "    else:\n",
    "        df_filtered = spacex_df[spacex_df['Launch Site'] == site]\n",
    "        values = df_filtered['class'].value_counts()\n",
    "        title = f\"Total Success Launches for site {site}\"\n",
    "    fig = {\n",
    "        'data': [{'values': values,\n",
    "                  'labels': ['Failure', 'Success'],\n",
    "                  'type': 'pie'}],\n",
    "        'layout': {'title': title,\n",
    "                   'legend': {'orientation': 'h', 'xanchor': 'center', 'x': 0.5},\n",
    "                   'plot_bgcolor': '#F2DFCE',\n",
    "                   'paper_bgcolor': '#F2DFCE'}\n",
    "    }\n",
    "    return fig\n",
    "\n",
    "# TASK 4:\n",
    "# Add a callback function for `site-dropdown` and `payload-slider` as inputs,\n",
    "@app.callback(Output(component_id='success-payload-scatter-chart', component_property='figure'),\n",
    "              Input(component_id='site-dropdown', component_property='value'),\n",
    "              Input(component_id='payload-slider', component_property='value'))\n",
    "def update_success_payload_scatter_chart(site, payload):\n",
    "    if site == 'ALL':\n",
    "        df_filtered = spacex_df[(spacex_df['Payload Mass (kg)'] >= payload[0]) &\n",
    "                                (spacex_df['Payload Mass (kg)'] <= payload[1])]\n",
    "        fig = generate_scatter_chart(df_filtered)\n",
    "    else:\n",
    "        df_filtered = spacex_df[(spacex_df['Launch Site'] == site) &\n",
    "                                (spacex_df['Payload Mass (kg)'] >= payload[0]) &\n",
    "                                (spacex_df['Payload Mass (kg)'] <= payload[1])]\n",
    "        fig = generate_scatter_chart(df_filtered)\n",
    "        \n",
    "    return fig\n",
    "\n",
    "# Run the app\n",
    "if __name__ == '__main__':\n",
    "    #app.run_server()\n",
    "    app.run_server(debug=True, use_reloader=False)\n"
   ]
  },
  {
   "cell_type": "code",
   "execution_count": null,
   "id": "d9e7cbee",
   "metadata": {},
   "outputs": [],
   "source": []
  }
 ],
 "metadata": {
  "kernelspec": {
   "display_name": "Python 3 (ipykernel)",
   "language": "python",
   "name": "python3"
  },
  "language_info": {
   "codemirror_mode": {
    "name": "ipython",
    "version": 3
   },
   "file_extension": ".py",
   "mimetype": "text/x-python",
   "name": "python",
   "nbconvert_exporter": "python",
   "pygments_lexer": "ipython3",
   "version": "3.9.13"
  }
 },
 "nbformat": 4,
 "nbformat_minor": 5
}
